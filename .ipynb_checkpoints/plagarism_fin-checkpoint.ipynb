{
 "cells": [
  {
   "cell_type": "code",
   "execution_count": 1,
   "id": "08fca536-3ac2-4cd8-a29f-5ebd0784c998",
   "metadata": {},
   "outputs": [],
   "source": [
    "import os  #os module provide functionalities to interact with my operating system.\n",
    "\n",
    "from sklearn.feature_extraction.text import TfidfVectorizer #coverts text into numerical form\n",
    "# TF-IDF example:\n",
    "# sen1=good girl\n",
    "# sen2=good boy\n",
    "# sen3=good boy girl\n",
    "# TF=no.of repitions of words in sentence/no.of words in sentences\n",
    "# IDF=log(no.of sentences/no.of sentences containing words)\n",
    "# TF*IDF"
   ]
  },
  {
   "cell_type": "code",
   "execution_count": 17,
   "id": "26742af1-6985-4b88-854d-b8e49a8b9ef0",
   "metadata": {},
   "outputs": [
    {
     "data": {
      "application/vnd.jupyter.widget-view+json": {
       "model_id": "2de1dec662a64f1d81c5aaf83cb32a1c",
       "version_major": 2,
       "version_minor": 0
      },
      "text/plain": [
       "Text(value='', description='Directory Path:')"
      ]
     },
     "metadata": {},
     "output_type": "display_data"
    },
    {
     "data": {
      "application/vnd.jupyter.widget-view+json": {
       "model_id": "cf022978a55147ddab97ab7734a7c257",
       "version_major": 2,
       "version_minor": 0
      },
      "text/plain": [
       "Text(value='', description='File Extension:')"
      ]
     },
     "metadata": {},
     "output_type": "display_data"
    },
    {
     "data": {
      "application/vnd.jupyter.widget-view+json": {
       "model_id": "be2b09fbf64146eab52d7784268a41d7",
       "version_major": 2,
       "version_minor": 0
      },
      "text/plain": [
       "Button(button_style='success', description='Submit', style=ButtonStyle())"
      ]
     },
     "metadata": {},
     "output_type": "display_data"
    },
    {
     "data": {
      "application/vnd.jupyter.widget-view+json": {
       "model_id": "6104b598d7df44b897e9e746f5a296c4",
       "version_major": 2,
       "version_minor": 0
      },
      "text/plain": [
       "Output()"
      ]
     },
     "metadata": {},
     "output_type": "display_data"
    }
   ],
   "source": [
    "from sklearn.metrics.pairwise import cosine_similarity\n",
    "import os\n",
    "import ipywidgets as widgets\n",
    "from IPython.display import display\n",
    "\n",
    "# Create text boxes for user input\n",
    "dir_input = widgets.Text(description=\"Directory Path:\")\n",
    "ext_input = widgets.Text(description=\"File Extension:\")\n",
    "\n",
    "# Create a button for submitting the input\n",
    "button = widgets.Button(description=\"Submit\", button_style='success')\n",
    "\n",
    "# Create an output widget for displaying the result\n",
    "output = widgets.Output()\n",
    "\n",
    "# Function to run when the button is clicked\n",
    "def on_button_click(b):\n",
    "    with output:\n",
    "        # Retrieve user input from widgets\n",
    "        dir_path = dir_input.value\n",
    "        file_ext = ext_input.value\n",
    "\n",
    "        # Construct the list of file paths\n",
    "        global student_files\n",
    "        student_files = [os.path.join(dir_path, doc) for doc in os.listdir(dir_path) if doc.endswith(file_ext)]\n",
    "\n",
    "        # Print the selected directory and extension for confirmation\n",
    "        print(\"Selected Directory:\", dir_path)\n",
    "        print(\"Selected Extension:\", file_ext)\n",
    "\n",
    "        # Display the list of files\n",
    "        print(\"Files to compare:\")\n",
    "        for file_path in student_files:\n",
    "            print(\"-\", file_path)\n",
    "\n",
    "# Attach the function to the button's click event\n",
    "button.on_click(on_button_click)\n",
    "\n",
    "# Display the widgets and output\n",
    "display(dir_input, ext_input, button, output)\n"
   ]
  },
  {
   "cell_type": "code",
   "execution_count": 18,
   "id": "4602d69e-6e6c-4178-b801-92ccc4a0298f",
   "metadata": {},
   "outputs": [],
   "source": [
    "student_notes=[open(_file,encoding='utf-8').read() for _file in student_files] #each txt is opened and stored(content)\n",
    "# print(\"\\n\".join(student_notes))"
   ]
  },
  {
   "cell_type": "code",
   "execution_count": null,
   "id": "e5f77a3b-dec9-4c3b-8925-0a3ad0aa4dd9",
   "metadata": {},
   "outputs": [],
   "source": [
    "# refers to the character encoding of a text file.\n",
    "# It is specifying that the content of the file is \n",
    "# encoded using UTF-8.UTF-8 (Unicode Transformation Format 8-bit)\n",
    "#     is a widely used character encoding that can represent\n",
    "# every character in the Unicode character set."
   ]
  },
  {
   "cell_type": "code",
   "execution_count": 19,
   "id": "b8309689-6b4b-4b37-8e90-8d4525277171",
   "metadata": {},
   "outputs": [],
   "source": [
    "def vectorize(text):\n",
    "    return TfidfVectorizer().fit_transform(text).toarray() \n",
    "#result will convert documents into a Tfidf matrix where every row represents a document and each element in the row represents \n",
    "#the Tfidf of a token in the following document with respect to all the documents.\n",
    "\n",
    "def similarity(doc1,doc2):\n",
    "    return cosine_similarity([doc1,doc2]) #similarity between the doc1 and doc2\n",
    "\n",
    "vectors=vectorize(student_notes) # to store the vectors\n",
    "\n",
    "# print(vectors) \n",
    "\n",
    "s_vectors=list(zip(student_files,vectors)) # it will zip individual documents tfidf with the identifier of that particluar document.\n",
    "# print(s_vectors)\n",
    "\n"
   ]
  },
  {
   "cell_type": "code",
   "execution_count": 20,
   "id": "ee0cfe3c-fc47-42e9-b649-046f7939ba43",
   "metadata": {},
   "outputs": [],
   "source": [
    "def check_plagiarism():\n",
    "    global s_vectors\n",
    "    plagiarism_results = set()  # Initialize the set to store plagiarism results\n",
    "\n",
    "    for student_a, text_vector_a in s_vectors:\n",
    "        # filename and array are displayed so two variables are taken\n",
    "        new_vectors = s_vectors.copy()\n",
    "        current_index = new_vectors.index((student_a, text_vector_a))  # one file is compared with every file\n",
    "        print(current_index)\n",
    "        del new_vectors[current_index]\n",
    "\n",
    "        for student_b, text_vector_b in new_vectors:\n",
    "            sim_score = similarity(text_vector_a, text_vector_b)[0][1]\n",
    "            print(sim_score)\n",
    "            student_pair = sorted((student_a, student_b))  # sorted\n",
    "            score = (student_pair[0], student_pair[1], sim_score)  # [0]-first person and [1]-second person\n",
    "            plagiarism_results.add(score)\n",
    "\n",
    "    return plagiarism_results\n",
    "\n"
   ]
  },
  {
   "cell_type": "code",
   "execution_count": 21,
   "id": "529ec119-5493-4ad3-b369-af4d2273cde7",
   "metadata": {},
   "outputs": [
    {
     "name": "stdout",
     "output_type": "stream",
     "text": [
      "0\n",
      "0.10183381933031521\n",
      "0.10593477868057878\n",
      "0.401484149852296\n",
      "0.10047975881537004\n",
      "1\n",
      "0.10183381933031521\n",
      "0.250443168551451\n",
      "0.1398621713277024\n",
      "0.16358738054925093\n",
      "2\n",
      "0.10593477868057878\n",
      "0.250443168551451\n",
      "0.17409277584446586\n",
      "0.22571451271936313\n",
      "3\n",
      "0.401484149852296\n",
      "0.1398621713277024\n",
      "0.17409277584446586\n",
      "0.1308990556228563\n",
      "4\n",
      "0.10047975881537004\n",
      "0.16358738054925093\n",
      "0.22571451271936313\n",
      "0.1308990556228563\n"
     ]
    }
   ],
   "source": [
    "x=check_plagiarism()"
   ]
  },
  {
   "cell_type": "code",
   "execution_count": 13,
   "id": "20144d0e-612f-471f-a138-004c16378000",
   "metadata": {},
   "outputs": [
    {
     "name": "stdout",
     "output_type": "stream",
     "text": [
      "{('./rct\\\\ParentContainerFiller.jsx', './rct\\\\SignUp.jsx', 0.14299366082292594), ('./rct\\\\CreateQuiz.jsx', './rct\\\\Navbar.jsx', 0.173314661221737), ('./rct\\\\CreateQuizDisplayer.jsx', './rct\\\\SignIn.jsx', 0.14858028137585436), ('./rct\\\\CreateQuiz.jsx', './rct\\\\CreateQuizDisplayer.jsx', 0.3520204049504384), ('./rct\\\\CreateQuiz.jsx', './rct\\\\Loading.jsx', 0.10589062423783178), ('./rct\\\\CreateQuizDisplayer.jsx', './rct\\\\SignUp.jsx', 0.11510539022146792), ('./rct\\\\Navbar.jsx', './rct\\\\ParentContainerFiller.jsx', 0.2771962349871325), ('./rct\\\\Loading.jsx', './rct\\\\SignUp.jsx', 0.1641915724173827), ('./rct\\\\CreateQuizDisplayer.jsx', './rct\\\\PlayQuiz.jsx', 0.20118345113113204), ('./rct\\\\ParentContainerFiller.jsx', './rct\\\\SignIn.jsx', 0.17207268119210992), ('./rct\\\\Loading.jsx', './rct\\\\PlayQuiz.jsx', 0.1844691215268548), ('./rct\\\\ResetPass.jsx', './rct\\\\SignUp.jsx', 0.3356088856169533), ('./rct\\\\CreateQuiz.jsx', './rct\\\\ParentContainerFiller.jsx', 0.13623360425712824), ('./rct\\\\CreateQuiz.jsx', './rct\\\\PlayQuiz.jsx', 0.21696310624567772), ('./rct\\\\Loading.jsx', './rct\\\\ResetPass.jsx', 0.22818302235316432), ('./rct\\\\CreateQuizDisplayer.jsx', './rct\\\\Loading.jsx', 0.07227858104376386), ('./rct\\\\CreateQuizDisplayer.jsx', './rct\\\\ResetPass.jsx', 0.1416284618006215), ('./rct\\\\ParentContainerFiller.jsx', './rct\\\\ResetPass.jsx', 0.22844269399224162), ('./rct\\\\SignIn.jsx', './rct\\\\SignUp.jsx', 0.7183082571792205), ('./rct\\\\CreateQuiz.jsx', './rct\\\\SignUp.jsx', 0.28266255902128834), ('./rct\\\\PlayQuiz.jsx', './rct\\\\SignIn.jsx', 0.2357134506415183), ('./rct\\\\CreateQuizDisplayer.jsx', './rct\\\\Navbar.jsx', 0.10516101095253927), ('./rct\\\\CreateQuiz.jsx', './rct\\\\ResetPass.jsx', 0.1971678290021142), ('./rct\\\\Navbar.jsx', './rct\\\\ResetPass.jsx', 0.19410716394791605), ('./rct\\\\Loading.jsx', './rct\\\\Navbar.jsx', 0.2551878085099416), ('./rct\\\\PlayQuiz.jsx', './rct\\\\ResetPass.jsx', 0.19439483297153468), ('./rct\\\\Navbar.jsx', './rct\\\\SignIn.jsx', 0.26356988524850855), ('./rct\\\\PlayQuiz.jsx', './rct\\\\SignUp.jsx', 0.22527270197593613), ('./rct\\\\Navbar.jsx', './rct\\\\PlayQuiz.jsx', 0.13833127268659387), ('./rct\\\\Navbar.jsx', './rct\\\\SignUp.jsx', 0.26757912772155024), ('./rct\\\\CreateQuiz.jsx', './rct\\\\SignIn.jsx', 0.27461377575453366), ('./rct\\\\ResetPass.jsx', './rct\\\\SignIn.jsx', 0.3760893613006987), ('./rct\\\\CreateQuizDisplayer.jsx', './rct\\\\ParentContainerFiller.jsx', 0.0948891342985117), ('./rct\\\\Loading.jsx', './rct\\\\SignIn.jsx', 0.23059834813518593), ('./rct\\\\ParentContainerFiller.jsx', './rct\\\\PlayQuiz.jsx', 0.16061648220704866), ('./rct\\\\Loading.jsx', './rct\\\\ParentContainerFiller.jsx', 0.16501352338277187)}\n"
     ]
    }
   ],
   "source": [
    "print(x)"
   ]
  },
  {
   "cell_type": "code",
   "execution_count": 22,
   "id": "2d835bda-f287-4968-bc1b-70820394a6b2",
   "metadata": {},
   "outputs": [
    {
     "name": "stdout",
     "output_type": "stream",
     "text": [
      "1\n",
      " similarity between .\\factorial.c , .\\first.c is : 25.04%\n",
      "2\n",
      " similarity between .\\calculator.c , .\\first.c is : 10.59%\n",
      "3\n",
      " similarity between .\\calculator.c , .\\stringreverse.c is : 10.05%\n",
      "4\n",
      " similarity between .\\someoftwonums.c , .\\stringreverse.c is : 13.09%\n",
      "5\n",
      " similarity between .\\calculator.c , .\\factorial.c is : 10.18%\n",
      "6\n",
      " similarity between .\\first.c , .\\someoftwonums.c is : 17.41%\n",
      "7\n",
      " similarity between .\\factorial.c , .\\someoftwonums.c is : 13.99%\n",
      "8\n",
      " similarity between .\\factorial.c , .\\stringreverse.c is : 16.36%\n",
      "9\n",
      " similarity between .\\first.c , .\\stringreverse.c is : 22.57%\n",
      "10\n",
      " similarity between .\\calculator.c , .\\someoftwonums.c is : 40.15%\n"
     ]
    }
   ],
   "source": [
    "num=0\n",
    "for tup in x:\n",
    "    num+=1\n",
    "    print(num)\n",
    "    percentage=\"{:.2f}%\".format(tup[2]*100)\n",
    "    print(f\" similarity between {tup[0]} , {tup[1]} is : {percentage}\")"
   ]
  },
  {
   "cell_type": "code",
   "execution_count": 23,
   "id": "ea164f2f-f351-4855-af9f-7069ef63f25c",
   "metadata": {},
   "outputs": [
    {
     "data": {
      "image/png": "[encoded data removed]",
      "text/plain": [
       "<Figure size 600x600 with 1 Axes>"
      ]
     },
     "metadata": {},
     "output_type": "display_data"
    }
   ],
   "source": [
    "import matplotlib.pyplot as plt\n",
    "plotting_data=list(x)\n",
    "# Extracting data for plotting\n",
    "categories = [f\"{tup[0]} \\n {tup[1]}\" for tup in x]\n",
    "percentages = [float(\"{:.2f}\".format(tup[2] * 100)) for tup in x]  # Convert to float\n",
    "\n",
    "# Assigning different colors to each bar\n",
    "colors = ['skyblue', 'lightgreen','green','red','orange','yellow','violet']\n",
    "\n",
    "# Create a bar graph\n",
    "plt.figure(figsize=(6, 6))\n",
    "bars = plt.bar(categories, percentages, color=colors)\n",
    "\n",
    "# Adding labels and title\n",
    "plt.xlabel('Document Pairs')\n",
    "plt.ylabel('Similarity (%)')\n",
    "plt.title('Plagiarism Similarity Between Documents')\n",
    "\n",
    "# Adding percentage labels above the bars\n",
    "for i in range(len(bars)):\n",
    "    plt.text(bars[i].get_x() + bars[i].get_width() / 2, bars[i].get_height() + 1, f'{percentages[i]:.2f}%', ha='center')\n",
    "\n",
    "plt.xticks(rotation=15, ha='right', fontsize=7)\n",
    "plt.tight_layout()\n",
    "\n",
    "# Display the graph\n",
    "plt.show()"
   ]
  }
 ],
 "metadata": {
  "kernelspec": {
   "display_name": "Python 3 (ipykernel)",
   "language": "python",
   "name": "python3"
  },
  "language_info": {
   "codemirror_mode": {
    "name": "ipython",
    "version": 3
   },
   "file_extension": ".py",
   "mimetype": "text/x-python",
   "name": "python",
   "nbconvert_exporter": "python",
   "pygments_lexer": "ipython3",
   "version": "3.10.8"
  }
 },
 "nbformat": 4,
 "nbformat_minor": 5
}
