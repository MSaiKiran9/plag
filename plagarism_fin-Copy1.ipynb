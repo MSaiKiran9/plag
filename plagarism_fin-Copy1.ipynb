{
 "cells": [
  {
   "cell_type": "code",
   "execution_count": 1,
   "id": "08fca536-3ac2-4cd8-a29f-5ebd0784c998",
   "metadata": {},
   "outputs": [],
   "source": [
    "import os  #os module provide functionalities to interact with my operating system.\n",
    "\n",
    "from sklearn.feature_extraction.text import TfidfVectorizer #coverts text into numerical form\n",
    "# TF-IDF example:\n",
    "# sen1=good girl\n",
    "# sen2=good boy\n",
    "# sen3=good boy girl\n",
    "# TF=no.of repitions of words in sentence/no.of words in sentences\n",
    "# IDF=log(no.of sentences/no.of sentences containing words)\n",
    "# TF*IDF"
   ]
  },
  {
   "cell_type": "code",
   "execution_count": 2,
   "id": "26742af1-6985-4b88-854d-b8e49a8b9ef0",
   "metadata": {},
   "outputs": [
    {
     "data": {
      "application/vnd.jupyter.widget-view+json": {
       "model_id": "4266bda4207f437d9869f9e0a52c6a35",
       "version_major": 2,
       "version_minor": 0
      },
      "text/plain": [
       "Text(value='', description='Directory Path:')"
      ]
     },
     "metadata": {},
     "output_type": "display_data"
    },
    {
     "data": {
      "application/vnd.jupyter.widget-view+json": {
       "model_id": "6fb706c1c72341858117645edec6f1a6",
       "version_major": 2,
       "version_minor": 0
      },
      "text/plain": [
       "Text(value='', description='File Extension:')"
      ]
     },
     "metadata": {},
     "output_type": "display_data"
    },
    {
     "data": {
      "application/vnd.jupyter.widget-view+json": {
       "model_id": "1e00cb9725574b1d84aeb7b693143165",
       "version_major": 2,
       "version_minor": 0
      },
      "text/plain": [
       "Button(button_style='success', description='Submit', style=ButtonStyle())"
      ]
     },
     "metadata": {},
     "output_type": "display_data"
    },
    {
     "data": {
      "application/vnd.jupyter.widget-view+json": {
       "model_id": "b920770be20f4141b99e8cba52b57abd",
       "version_major": 2,
       "version_minor": 0
      },
      "text/plain": [
       "Output()"
      ]
     },
     "metadata": {},
     "output_type": "display_data"
    }
   ],
   "source": [
    "from sklearn.metrics.pairwise import cosine_similarity\n",
    "import os\n",
    "import ipywidgets as widgets\n",
    "from IPython.display import display\n",
    "\n",
    "# Create text boxes for user input\n",
    "dir_input = widgets.Text(description=\"Directory Path:\")\n",
    "ext_input = widgets.Text(description=\"File Extension:\")\n",
    "\n",
    "# Create a button for submitting the input\n",
    "button = widgets.Button(description=\"Submit\", button_style='success')\n",
    "\n",
    "# Create an output widget for displaying the result\n",
    "output = widgets.Output()\n",
    "\n",
    "# Function to run when the button is clicked\n",
    "def on_button_click(b):\n",
    "    with output:\n",
    "        # Retrieve user input from widgets\n",
    "        dir_path = dir_input.value\n",
    "        file_ext = ext_input.value\n",
    "\n",
    "        # Construct the list of file paths\n",
    "        global student_files\n",
    "        student_files = [os.path.join(dir_path, doc) for doc in os.listdir(dir_path) if doc.endswith(file_ext)]\n",
    "\n",
    "        # Print the selected directory and extension for confirmation\n",
    "        print(\"Selected Directory:\", dir_path)\n",
    "        print(\"Selected Extension:\", file_ext)\n",
    "\n",
    "        # Display the list of files\n",
    "        print(\"Files to compare:\")\n",
    "        for file_path in student_files:\n",
    "            print(\"-\", file_path)\n",
    "\n",
    "# Attach the function to the button's click event\n",
    "button.on_click(on_button_click)\n",
    "\n",
    "# Display the widgets and output\n",
    "display(dir_input, ext_input, button, output)\n"
   ]
  },
  {
   "cell_type": "code",
   "execution_count": 3,
   "id": "4602d69e-6e6c-4178-b801-92ccc4a0298f",
   "metadata": {},
   "outputs": [
    {
     "name": "stdout",
     "output_type": "stream",
     "text": [
      "#include <stdio.h>\n",
      "\n",
      "int main() {\n",
      "    char operator;\n",
      "    double num1, num2, result;\n",
      "    \n",
      "    printf(\"Enter an operator (+, -, *, /): \");\n",
      "    scanf(\"%c\", &operator);\n",
      "    \n",
      "    printf(\"Enter two numbers: \");\n",
      "    scanf(\"%lf %lf\", &num1, &num2);\n",
      "    \n",
      "    switch (operator) {\n",
      "        case '+':\n",
      "            result = num1 + num2;\n",
      "            break;\n",
      "        case '-':\n",
      "            result = num1 - num2;\n",
      "            break;\n",
      "        case '*':\n",
      "            result = num1 * num2;\n",
      "            break;\n",
      "        case '/':\n",
      "            if (num2 != 0)\n",
      "                result = num1 / num2;\n",
      "            else {\n",
      "                printf(\"Error: Division by zero\\n\");\n",
      "                return 1;\n",
      "            }\n",
      "            break;\n",
      "        default:\n",
      "            printf(\"Error: Invalid operator\\n\");\n",
      "            return 1;\n",
      "    }\n",
      "    \n",
      "    printf(\"Result: %lf\\n\", result);\n",
      "    \n",
      "    return 0;\n",
      "}\n",
      "\n",
      "#include <stdio.h>\n",
      "\n",
      "int main() {\n",
      "    char op;\n",
      "    double x, y, res;\n",
      "    \n",
      "    printf(\"Enter an operator (+, -, *, /): \");\n",
      "    scanf(\"%c\", &op);\n",
      "    \n",
      "    printf(\"Enter two numbers: \");\n",
      "    scanf(\"%lf %lf\", &x, &y);\n",
      "    \n",
      "    switch (op) {\n",
      "        case '+':\n",
      "            res = x + y;\n",
      "            break;\n",
      "        case '-':\n",
      "            res = x - y;\n",
      "            break;\n",
      "        case '*':\n",
      "            res = x * y;\n",
      "            break;\n",
      "        case '/':\n",
      "            if (y != 0)\n",
      "                res = x / y;\n",
      "            else {\n",
      "                printf(\"Error: Division by zero\\n\");\n",
      "                return 1;\n",
      "            }\n",
      "            break;\n",
      "        default:\n",
      "            printf(\"Error: Invalid operator\\n\");\n",
      "            return 1;\n",
      "    }\n",
      "    \n",
      "    printf(\"Result: %lf\\n\", res);\n",
      "    \n",
      "    return 0;\n",
      "}\n",
      "\n"
     ]
    }
   ],
   "source": [
    "student_notes=[open(_file,encoding='utf-8').read() for _file in student_files] #each txt is opened and stored(content)\n",
    "print(\"\\n\".join(student_notes))"
   ]
  },
  {
   "cell_type": "code",
   "execution_count": 4,
   "id": "e5f77a3b-dec9-4c3b-8925-0a3ad0aa4dd9",
   "metadata": {},
   "outputs": [],
   "source": [
    "# refers to the character encoding of a text file.\n",
    "# It is specifying that the content of the file is \n",
    "# encoded using UTF-8.UTF-8 (Unicode Transformation Format 8-bit)\n",
    "#     is a widely used character encoding that can represent\n",
    "# every character in the Unicode character set."
   ]
  },
  {
   "cell_type": "code",
   "execution_count": 5,
   "id": "b8309689-6b4b-4b37-8e90-8d4525277171",
   "metadata": {},
   "outputs": [
    {
     "name": "stdout",
     "output_type": "stream",
     "text": [
      "[[0.05376785 0.21507141 0.05376785 0.21507141 0.05376785 0.05376785\n",
      "  0.05376785 0.05376785 0.05376785 0.1075357  0.1075357  0.05376785\n",
      "  0.05376785 0.05376785 0.05376785 0.16130356 0.05376785 0.45341304\n",
      "  0.52898188 0.05376785 0.         0.26883926 0.26883926 0.\n",
      "  0.37637497 0.16130356 0.1075357  0.05376785 0.05376785 0.05376785\n",
      "  0.05376785]\n",
      " [0.07108666 0.28434666 0.07108666 0.28434666 0.07108666 0.07108666\n",
      "  0.07108666 0.07108666 0.07108666 0.14217333 0.14217333 0.07108666\n",
      "  0.07108666 0.07108666 0.07108666 0.21325999 0.07108666 0.\n",
      "  0.         0.07108666 0.29972948 0.14217333 0.35543332 0.59945895\n",
      "  0.07108666 0.21325999 0.14217333 0.07108666 0.07108666 0.07108666\n",
      "  0.07108666]]\n"
     ]
    }
   ],
   "source": [
    "def vectorize(text):\n",
    "    return TfidfVectorizer().fit_transform(text).toarray() \n",
    "#result will convert documents into a Tfidf matrix where every row represents a document and each element in the row represents \n",
    "#the Tfidf of a token in the following document with respect to all the documents.\n",
    "\n",
    "def similarity(doc1,doc2):\n",
    "    return cosine_similarity([doc1,doc2]) #similarity between the doc1 and doc2\n",
    "\n",
    "vectors=vectorize(student_notes) # to store the vectors\n",
    "\n",
    "print(vectors) \n",
    "\n",
    "s_vectors=list(zip(student_files,vectors)) # it will zip individual documents tfidf with the identifier of that particluar document.\n",
    "# print(s_vectors)\n",
    "\n"
   ]
  },
  {
   "cell_type": "code",
   "execution_count": 6,
   "id": "ee0cfe3c-fc47-42e9-b649-046f7939ba43",
   "metadata": {},
   "outputs": [],
   "source": [
    "def check_plagiarism():\n",
    "    global s_vectors\n",
    "    plagiarism_results = set()  # Initialize the set to store plagiarism results\n",
    "\n",
    "    for student_a, text_vector_a in s_vectors:\n",
    "        # filename and array are displayed so two variables are taken\n",
    "        new_vectors = s_vectors.copy()\n",
    "        current_index = new_vectors.index((student_a, text_vector_a))  # one file is compared with every file\n",
    "        print(current_index)\n",
    "        del new_vectors[current_index]\n",
    "\n",
    "        for student_b, text_vector_b in new_vectors:\n",
    "            sim_score = similarity(text_vector_a, text_vector_b)[0][1]\n",
    "            print(sim_score)\n",
    "            student_pair = sorted((student_a, student_b))  # sorted\n",
    "            score = (student_pair[0], student_pair[1], sim_score)  # [0]-first person and [1]-second person\n",
    "            plagiarism_results.add(score)\n",
    "\n",
    "    return plagiarism_results\n",
    "\n"
   ]
  },
  {
   "cell_type": "code",
   "execution_count": 7,
   "id": "529ec119-5493-4ad3-b369-af4d2273cde7",
   "metadata": {},
   "outputs": [
    {
     "name": "stdout",
     "output_type": "stream",
     "text": [
      "0\n",
      "0.46248344563088567\n",
      "1\n",
      "0.46248344563088567\n"
     ]
    }
   ],
   "source": [
    "x=check_plagiarism()"
   ]
  },
  {
   "cell_type": "code",
   "execution_count": 8,
   "id": "20144d0e-612f-471f-a138-004c16378000",
   "metadata": {},
   "outputs": [
    {
     "name": "stdout",
     "output_type": "stream",
     "text": [
      "{('./cfilesfortesing\\\\varnames1.c', './cfilesfortesing\\\\varnames2.c', 0.46248344563088567)}\n"
     ]
    }
   ],
   "source": [
    "print(x)"
   ]
  },
  {
   "cell_type": "code",
   "execution_count": 9,
   "id": "2d835bda-f287-4968-bc1b-70820394a6b2",
   "metadata": {},
   "outputs": [
    {
     "name": "stdout",
     "output_type": "stream",
     "text": [
      "1\n",
      " similarity between ./cfilesfortesing\\varnames1.c , ./cfilesfortesing\\varnames2.c is : 46.25%\n"
     ]
    }
   ],
   "source": [
    "num=0\n",
    "for tup in x:\n",
    "    num+=1\n",
    "    print(num)\n",
    "    percentage=\"{:.2f}%\".format(tup[2]*100)\n",
    "    print(f\" similarity between {tup[0]} , {tup[1]} is : {percentage}\")"
   ]
  },
  {
   "cell_type": "code",
   "execution_count": 10,
   "id": "ea164f2f-f351-4855-af9f-7069ef63f25c",
   "metadata": {},
   "outputs": [
    {
     "data": {
      "image/png": "[encoded data removed]",
      "text/plain": [
       "<Figure size 600x600 with 1 Axes>"
      ]
     },
     "metadata": {},
     "output_type": "display_data"
    }
   ],
   "source": [
    "import matplotlib.pyplot as plt\n",
    "plotting_data=list(x)\n",
    "# Extracting data for plotting\n",
    "categories = [f\"{tup[0]} \\n {tup[1]}\" for tup in x]\n",
    "percentages = [float(\"{:.2f}\".format(tup[2] * 100)) for tup in x]  # Convert to float\n",
    "\n",
    "# Assigning different colors to each bar\n",
    "colors = ['skyblue', 'lightgreen','green','red','orange','yellow','violet']\n",
    "\n",
    "# Create a bar graph\n",
    "plt.figure(figsize=(6, 6))\n",
    "bars = plt.bar(categories, percentages, color=colors)\n",
    "\n",
    "# Adding labels and title\n",
    "plt.xlabel('Document Pairs')\n",
    "plt.ylabel('Similarity (%)')\n",
    "plt.title('Plagiarism Similarity Between Documents')\n",
    "\n",
    "# Adding percentage labels above the bars\n",
    "for i in range(len(bars)):\n",
    "    plt.text(bars[i].get_x() + bars[i].get_width() / 2, bars[i].get_height() + 1, f'{percentages[i]:.2f}%', ha='center')\n",
    "\n",
    "plt.xticks(rotation=15, ha='right', fontsize=7)\n",
    "plt.tight_layout()\n",
    "\n",
    "# Display the graph\n",
    "plt.show()"
   ]
  },
  {
   "cell_type": "code",
   "execution_count": null,
   "id": "b1922ff9-e330-4793-b751-303e03358e75",
   "metadata": {},
   "outputs": [],
   "source": []
  },
  {
   "cell_type": "code",
   "execution_count": null,
   "id": "acd4dead-12ca-4a8a-b3dc-4663e210463a",
   "metadata": {},
   "outputs": [],
   "source": []
  },
  {
   "cell_type": "code",
   "execution_count": null,
   "id": "038048e3-d05c-43af-8601-1be539002c2e",
   "metadata": {},
   "outputs": [],
   "source": []
  },
  {
   "cell_type": "code",
   "execution_count": null,
   "id": "f4a33732-560d-4694-93a9-99a6809530b6",
   "metadata": {},
   "outputs": [],
   "source": []
  }
 ],
 "metadata": {
  "kernelspec": {
   "display_name": "Python 3 (ipykernel)",
   "language": "python",
   "name": "python3"
  },
  "language_info": {
   "codemirror_mode": {
    "name": "ipython",
    "version": 3
   },
   "file_extension": ".py",
   "mimetype": "text/x-python",
   "name": "python",
   "nbconvert_exporter": "python",
   "pygments_lexer": "ipython3",
   "version": "3.10.8"
  }
 },
 "nbformat": 4,
 "nbformat_minor": 5
}
